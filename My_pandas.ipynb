{
 "cells": [
  {
   "cell_type": "code",
   "execution_count": 4,
   "metadata": {},
   "outputs": [
    {
     "data": {
      "text/html": [
       "<style>.container { width:100% !important; }</style>"
      ],
      "text/plain": [
       "<IPython.core.display.HTML object>"
      ]
     },
     "metadata": {},
     "output_type": "display_data"
    }
   ],
   "source": [
    "import pandas as pd\n",
    "import numpy as np\n",
    "from My_numpy import Array, Null\n",
    "from prettytable import PrettyTable\n",
    "import csv\n",
    "\n",
    "\n",
    "from IPython.core.display import display, HTML\n",
    "display(HTML(\"<style>.container { width:100% !important; }</style>\"))"
   ]
  },
  {
   "cell_type": "code",
   "execution_count": 5,
   "metadata": {},
   "outputs": [],
   "source": [
    "import My_pandas as mpd"
   ]
  },
  {
   "cell_type": "code",
   "execution_count": 6,
   "metadata": {},
   "outputs": [
    {
     "name": "stdout",
     "output_type": "stream",
     "text": [
      "/Users/ila/Desktop/Python/ООП\r\n"
     ]
    }
   ],
   "source": [
    "!pwd"
   ]
  },
  {
   "cell_type": "code",
   "execution_count": 7,
   "metadata": {},
   "outputs": [],
   "source": [
    "class Dop_str_for_DataFrame(str):\n",
    "    def __repr__(self):\n",
    "        return (self)"
   ]
  },
  {
   "cell_type": "code",
   "execution_count": 8,
   "metadata": {},
   "outputs": [
    {
     "data": {
      "text/plain": [
       "type"
      ]
     },
     "execution_count": 8,
     "metadata": {},
     "output_type": "execute_result"
    }
   ],
   "source": [
    "type(list)"
   ]
  },
  {
   "cell_type": "code",
   "execution_count": 20,
   "metadata": {},
   "outputs": [],
   "source": [
    "class ft_Logistic_Regression():\n",
    "    exp = 2.7182818284\n",
    "\n",
    "    def __init__(self, lr=0.0001, n_epochs=1000, min_err=0.02, n_clas=2, penalty=None, penalty_param=0.5,\n",
    "                 stochastic=False, chunk_size=5):\n",
    "        self.lr = lr\n",
    "        self.n_epochs = n_epochs\n",
    "        self.min_err = min_err\n",
    "        self.n_clas = n_clas\n",
    "        self.penalty_param = penalty_param\n",
    "        self.stochastic = stochastic\n",
    "        self.chunk_size = chunk_size\n",
    "        if penalty == 'l1':\n",
    "            self.penalty = self.__l1_penalty__\n",
    "        elif penalty == 'l2':\n",
    "            self.penalty = self.__l2_penalty__\n",
    "        else:\n",
    "            self.penalty = self.__none_penalty__\n",
    "        if self.n_clas != 2:\n",
    "            self.multiflag = True\n",
    "        else:\n",
    "            self.multiflag = False\n",
    "\n",
    "    def sign(self, n):\n",
    "        if isinstance(n, (int, float)):\n",
    "            if n >= 0:\n",
    "                return 1\n",
    "            return -1\n",
    "        else:\n",
    "            return mnp.Array([1 if i >= 0 else -1 for i in n])\n",
    "\n",
    "    def __l1_penalty__(self):\n",
    "        return self.penalty_param * self.sign(self.w_mas)\n",
    "\n",
    "    def __l2_penalty__(self):\n",
    "        return [w * self.penalty_param for w in self.w_mas]  # * 2\n",
    "\n",
    "    def __none_penalty__(self):\n",
    "        return 0\n",
    "\n",
    "    def regression(self, data, w_mas):  # Линейный алгоритм\n",
    "        sums = []\n",
    "        for row in data.data[1:, 1:]:\n",
    "            sums += [(row * w_mas).sum()]\n",
    "        return sums\n",
    "\n",
    "    def sigmoid(self, regs):\n",
    "        sigmoids = []\n",
    "        for reg in regs:\n",
    "            if reg > 100:\n",
    "                reg = 100\n",
    "            elif reg < -100:\n",
    "                reg = -100\n",
    "            sigmoids += [1 / (1 + self.exp ** -(reg))]\n",
    "        return mnp.Array(sigmoids)\n",
    "\n",
    "    def Logloss(self, sigs, targets):\n",
    "        sums = 0\n",
    "        eps = 1e-15\n",
    "        for sig, target in zip(sigs, targets):\n",
    "            if sig == 1 or sig == 0:\n",
    "                sig = max(eps, min(1 - eps, sig))\n",
    "            res = -(target * np.log(sig) + (1 - target) * np.log(1 - sig))\n",
    "            sums += res\n",
    "        return sums / len(sigs)\n",
    "\n",
    "    def derivative(self, sigs, targets, data):\n",
    "        der_w = mnp.Array([])\n",
    "        rasn_sig_tar = sigs - targets\n",
    "        for column in data.columns[1:]:\n",
    "            der_w.append(mnp.Array(rasn_sig_tar * data[column]).mean())\n",
    "        return der_w\n",
    "\n",
    "    def multiclass_fit(self, data, targets):\n",
    "        self.multiflag = False\n",
    "        self.dict_multiclass = {}\n",
    "        for target in set(targets):\n",
    "            copy_target = [1 if i == target else 0 for i in targets]\n",
    "            self.fit(data, copy_target)\n",
    "            self.dict_multiclass[target] = self.w_mas\n",
    "        self.multiflag = True\n",
    "\n",
    "    def argmx_dict(self, dicts):\n",
    "        mas_target = []\n",
    "        for i in range(len(list(dicts.values())[0])):\n",
    "            max_int = float('-inf')\n",
    "            for key in dicts.keys():\n",
    "                if dicts[key][i] > max_int:\n",
    "                    target = key\n",
    "                    max_int = dicts[key][i]\n",
    "            mas_target.append(target)\n",
    "        return mas_target\n",
    "\n",
    "    def multiclass_predict(self, data):\n",
    "        self.multiflag = False\n",
    "        d = {}\n",
    "        for key in self.dict_multiclass.keys():\n",
    "            d[key] = self.predict_proba(data, w_mas=self.dict_multiclass[key])\n",
    "        self.multiflag = True\n",
    "        return self.argmx_dict(d)\n",
    "\n",
    "    def fit(self, data, target):\n",
    "        if self.multiflag == True:\n",
    "            return self.multiclass_fit(data, target)\n",
    "\n",
    "        data['dop_par'] = [1] * data.shape[0]\n",
    "        self.w_mas = [0] * (data.shape[1])\n",
    "        self.mas_logloss = []\n",
    "        self.mas_w_er = [0]\n",
    "\n",
    "        for epoch in range(self.n_epochs):\n",
    "            reg = self.regression(data, self.w_mas)\n",
    "            sig = self.sigmoid(reg)\n",
    "\n",
    "            if self.stochastic == True:\n",
    "                rand_st = np.random.randint(data.shape[0] - self.chunk_size)\n",
    "                rand_fn = rand_st + self.chunk_size\n",
    "                der_w = self.derivative(sig[rand_st:rand_fn], target[rand_st:rand_fn], train_data.iloc(rand_st, rand_fn + 1))\n",
    "                self.w_mas = self.w_mas - self.lr * (der_w + self.penalty())\n",
    "            else:\n",
    "                der_w = self.derivative(sig, target, data)\n",
    "                self.w_mas = self.w_mas - self.lr * (der_w + self.penalty())\n",
    "\n",
    "            log = self.Logloss(sig, target)\n",
    "            self.mas_logloss.append(log)\n",
    "            self.mas_w_er.append(self.w_mas[1])\n",
    "            if log < self.min_err:\n",
    "                break\n",
    "            if epoch > 5:\n",
    "                a = abs(self.mas_logloss[epoch - 1] - self.mas_logloss[epoch])\n",
    "                b = abs(self.mas_logloss[epoch - 2] - self.mas_logloss[epoch - 3])\n",
    "                if abs(a - b) < self.min_err:\n",
    "                    break\n",
    "\n",
    "        data = data.drop('dop_par')\n",
    "\n",
    "    def predict_proba(self, data, multiclass=None, w_mas=None):\n",
    "        if self.multiflag == True:\n",
    "            return self.multiclass_predict(data)\n",
    "        if w_mas == None:\n",
    "            w_mas = self.w_mas\n",
    "        data['dop_par'] = [1] * data.shape[0]\n",
    "\n",
    "        reg = self.regression(data, w_mas)\n",
    "        sig = self.sigmoid(reg)\n",
    "\n",
    "        data = data.drop('dop_par')\n",
    "        self.w_mas = w_mas\n",
    "        return sig\n",
    "\n",
    "    def predict(self, data, okrugl=0.5):\n",
    "        sig = self.predict_proba(data)\n",
    "        return [1 if i >= okrugl else 0 for i in sig]"
   ]
  },
  {
   "cell_type": "code",
   "execution_count": 10,
   "metadata": {},
   "outputs": [],
   "source": [
    "def read_csv(file_name, encoding='UTF-8', mode='r', delimiter=',', quotechar='|'):\n",
    "    if file_name[-4:] != '.csv':\n",
    "        file_name += '.csv'\n",
    "    with open(file_name, encoding=encoding, mode=mode) as file:\n",
    "        file_csv = csv.reader(file, delimiter=delimiter, quotechar=quotechar)\n",
    "        all_mas = []\n",
    "        for en, i in enumerate(file_csv):\n",
    "            if en == 0:\n",
    "                columns_name = i\n",
    "            else:\n",
    "                mas = i\n",
    "                for j in range(len(mas)):\n",
    "                    try:\n",
    "                        if mas[j] == '':\n",
    "                            mas[j] = Null()\n",
    "                        else:\n",
    "                            mas[j] = float(mas[j])\n",
    "                    except:\n",
    "                        mas[j]\n",
    "                all_mas += [mas]\n",
    "        return DataFrame(all_mas, columns=columns_name)"
   ]
  },
  {
   "cell_type": "code",
   "execution_count": 37,
   "metadata": {},
   "outputs": [
    {
     "name": "stderr",
     "output_type": "stream",
     "text": [
      "<ipython-input-37-3e16d55340bd>:1: RuntimeWarning: overflow encountered in exp\n",
      "  np.exp(1000000)\n"
     ]
    },
    {
     "data": {
      "text/plain": [
       "inf"
      ]
     },
     "execution_count": 37,
     "metadata": {},
     "output_type": "execute_result"
    }
   ],
   "source": [
    "np.exp(1000000)"
   ]
  },
  {
   "cell_type": "code",
   "execution_count": 38,
   "metadata": {},
   "outputs": [
    {
     "data": {
      "text/plain": [
       "3.7200759841014264e-44"
      ]
     },
     "execution_count": 38,
     "metadata": {},
     "output_type": "execute_result"
    }
   ],
   "source": [
    "exp = 2.7182818284\n",
    "exp ** -100"
   ]
  },
  {
   "cell_type": "code",
   "execution_count": null,
   "metadata": {},
   "outputs": [],
   "source": []
  },
  {
   "cell_type": "markdown",
   "metadata": {},
   "source": [
    "# проблемы \n",
    "\n",
    "1. будет проблема, если имена колонок не уникальны--------- а с другой стороны, это даже хорошо, не баг а фича \n",
    "2. добавить в read_csv параметр index_col ----------- способ решения\n",
    "3. функцции sorted и round могут быть запрещены"
   ]
  },
  {
   "cell_type": "markdown",
   "metadata": {},
   "source": [
    "##  Тестирование iloc"
   ]
  },
  {
   "cell_type": "code",
   "execution_count": 30,
   "metadata": {},
   "outputs": [
    {
     "data": {
      "text/plain": [
       "+-------+----+----+----+\n",
       "| index | 1  | 2  | 3  |\n",
       "+-------+----+----+----+\n",
       "|   0   | 4  | 5  | 6  |\n",
       "|   1   | 7  | 8  | 9  |\n",
       "|   2   | 10 | 11 | 12 |\n",
       "|   3   | 13 | 14 | 15 |\n",
       "+-------+----+----+----+"
      ]
     },
     "execution_count": 30,
     "metadata": {},
     "output_type": "execute_result"
    }
   ],
   "source": [
    "a = DataFrame([[4,5,6], [7,8,9], [10,11,12], [13,14,15]], columns=['1', '2', '3'])\n",
    "a"
   ]
  },
  {
   "cell_type": "code",
   "execution_count": 25,
   "metadata": {},
   "outputs": [
    {
     "data": {
      "text/plain": [
       "+-------+---+---+---+\n",
       "| index | 0 | 1 | 2 |\n",
       "+-------+---+---+---+\n",
       "|   0   | 7 | 8 | 9 |\n",
       "+-------+---+---+---+"
      ]
     },
     "execution_count": 25,
     "metadata": {},
     "output_type": "execute_result"
    }
   ],
   "source": [
    "a.iloc(1)"
   ]
  },
  {
   "cell_type": "code",
   "execution_count": 35,
   "metadata": {},
   "outputs": [
    {
     "data": {
      "text/plain": [
       "+-------+----+----+----+\n",
       "| index | 0  | 1  | 2  |\n",
       "+-------+----+----+----+\n",
       "|   0   | 7  | 8  | 9  |\n",
       "|   1   | 10 | 11 | 12 |\n",
       "|   2   | 13 | 14 | 15 |\n",
       "+-------+----+----+----+"
      ]
     },
     "execution_count": 35,
     "metadata": {},
     "output_type": "execute_result"
    }
   ],
   "source": [
    "a.iloc(1, 1+2+1)"
   ]
  },
  {
   "cell_type": "markdown",
   "metadata": {},
   "source": [
    "## Тестирование fillna()"
   ]
  },
  {
   "cell_type": "code",
   "execution_count": 47,
   "metadata": {},
   "outputs": [
    {
     "data": {
      "text/plain": [
       "+-------+---+---+------+\n",
       "| index | 0 | 1 |  2   |\n",
       "+-------+---+---+------+\n",
       "|   0   | 1 | 2 |  3   |\n",
       "|   1   | 1 | 2 | Null |\n",
       "+-------+---+---+------+"
      ]
     },
     "execution_count": 47,
     "metadata": {},
     "output_type": "execute_result"
    }
   ],
   "source": [
    "a = DataFrame([[1,2,3], [1,2]])\n",
    "a"
   ]
  },
  {
   "cell_type": "code",
   "execution_count": 48,
   "metadata": {},
   "outputs": [
    {
     "data": {
      "text/plain": [
       "+-------+---+---+---+\n",
       "| index | 0 | 1 | 2 |\n",
       "+-------+---+---+---+\n",
       "|   0   | 1 | 2 | 3 |\n",
       "|   1   | 1 | 2 | 0 |\n",
       "+-------+---+---+---+"
      ]
     },
     "execution_count": 48,
     "metadata": {},
     "output_type": "execute_result"
    }
   ],
   "source": [
    "a.fillna(0)"
   ]
  },
  {
   "cell_type": "code",
   "execution_count": 52,
   "metadata": {},
   "outputs": [
    {
     "data": {
      "text/plain": [
       "+-------+-----+-----+------+\n",
       "| index |  0  |  1  |  2   |\n",
       "+-------+-----+-----+------+\n",
       "|   0   | 0.0 | 0.0 | 1.0  |\n",
       "|   1   | 0.0 | 0.0 | -1.0 |\n",
       "+-------+-----+-----+------+"
      ]
     },
     "execution_count": 52,
     "metadata": {},
     "output_type": "execute_result"
    }
   ],
   "source": [
    "a.norm()\n",
    "a"
   ]
  },
  {
   "cell_type": "markdown",
   "metadata": {},
   "source": [
    "## Тестирование drop"
   ]
  },
  {
   "cell_type": "code",
   "execution_count": 8,
   "metadata": {},
   "outputs": [
    {
     "data": {
      "text/plain": [
       "+-------+---+---+---+\n",
       "| index | 1 | 2 | 3 |\n",
       "+-------+---+---+---+\n",
       "|   0   | 1 | 2 | 3 |\n",
       "|   1   | 1 | 2 | 3 |\n",
       "+-------+---+---+---+"
      ]
     },
     "execution_count": 8,
     "metadata": {},
     "output_type": "execute_result"
    }
   ],
   "source": [
    "a = DataFrame([[1,2,3], [1,2,3]], columns=['1', '2', '3'])\n",
    "a"
   ]
  },
  {
   "cell_type": "code",
   "execution_count": 9,
   "metadata": {},
   "outputs": [
    {
     "data": {
      "text/plain": [
       "+-------+---+\n",
       "| index | 2 |\n",
       "+-------+---+\n",
       "|   0   | 2 |\n",
       "|   1   | 2 |\n",
       "+-------+---+"
      ]
     },
     "execution_count": 9,
     "metadata": {},
     "output_type": "execute_result"
    }
   ],
   "source": [
    "a.drop('3').drop('1')"
   ]
  },
  {
   "cell_type": "code",
   "execution_count": 198,
   "metadata": {},
   "outputs": [
    {
     "data": {
      "text/plain": [
       "[['index', '1', '2', '3'], [0, 1, 2, 3], [1, 1, 2, 3]]"
      ]
     },
     "execution_count": 198,
     "metadata": {},
     "output_type": "execute_result"
    }
   ],
   "source": [
    "a.data"
   ]
  },
  {
   "cell_type": "code",
   "execution_count": 200,
   "metadata": {},
   "outputs": [
    {
     "data": {
      "text/plain": [
       "[1, 1]"
      ]
     },
     "execution_count": 200,
     "metadata": {},
     "output_type": "execute_result"
    }
   ],
   "source": [
    "a['1']"
   ]
  },
  {
   "cell_type": "markdown",
   "metadata": {},
   "source": [
    "## Тестирование None"
   ]
  },
  {
   "cell_type": "code",
   "execution_count": 8,
   "metadata": {},
   "outputs": [
    {
     "data": {
      "text/html": [
       "<div>\n",
       "<style scoped>\n",
       "    .dataframe tbody tr th:only-of-type {\n",
       "        vertical-align: middle;\n",
       "    }\n",
       "\n",
       "    .dataframe tbody tr th {\n",
       "        vertical-align: top;\n",
       "    }\n",
       "\n",
       "    .dataframe thead th {\n",
       "        text-align: right;\n",
       "    }\n",
       "</style>\n",
       "<table border=\"1\" class=\"dataframe\">\n",
       "  <thead>\n",
       "    <tr style=\"text-align: right;\">\n",
       "      <th></th>\n",
       "      <th>0</th>\n",
       "      <th>1</th>\n",
       "      <th>2</th>\n",
       "    </tr>\n",
       "  </thead>\n",
       "  <tbody>\n",
       "    <tr>\n",
       "      <th>0</th>\n",
       "      <td>1</td>\n",
       "      <td>2</td>\n",
       "      <td>3.0</td>\n",
       "    </tr>\n",
       "    <tr>\n",
       "      <th>1</th>\n",
       "      <td>1</td>\n",
       "      <td>2</td>\n",
       "      <td>NaN</td>\n",
       "    </tr>\n",
       "  </tbody>\n",
       "</table>\n",
       "</div>"
      ],
      "text/plain": [
       "   0  1    2\n",
       "0  1  2  3.0\n",
       "1  1  2  NaN"
      ]
     },
     "execution_count": 8,
     "metadata": {},
     "output_type": "execute_result"
    }
   ],
   "source": [
    "pd.DataFrame([[1,2,3], [1,2]])"
   ]
  },
  {
   "cell_type": "code",
   "execution_count": 9,
   "metadata": {},
   "outputs": [
    {
     "data": {
      "text/plain": [
       "+-------+---+---+------+\n",
       "| index | 0 | 1 |  2   |\n",
       "+-------+---+---+------+\n",
       "|   0   | 1 | 2 |  3   |\n",
       "|   1   | 1 | 2 | Null |\n",
       "+-------+---+---+------+"
      ]
     },
     "execution_count": 9,
     "metadata": {},
     "output_type": "execute_result"
    }
   ],
   "source": [
    "a = DataFrame([[1,2,3], [1,2]])\n",
    "a"
   ]
  },
  {
   "cell_type": "markdown",
   "metadata": {},
   "source": [
    "## Тестирование percentile"
   ]
  },
  {
   "cell_type": "code",
   "execution_count": 10,
   "metadata": {},
   "outputs": [],
   "source": [
    "def percentile(data, percen):\n",
    "    data = list(set(data))\n",
    "    index = int(len(data) * percen / 100 + 1)\n",
    "    sort_data = sorted(data)\n",
    "    return sort_data[index - 1]"
   ]
  },
  {
   "cell_type": "code",
   "execution_count": 11,
   "metadata": {},
   "outputs": [],
   "source": [
    "l = [2,4,8,9,11,13,15,17,20,24,29,30]"
   ]
  },
  {
   "cell_type": "code",
   "execution_count": 12,
   "metadata": {},
   "outputs": [
    {
     "data": {
      "text/plain": [
       "4"
      ]
     },
     "execution_count": 12,
     "metadata": {},
     "output_type": "execute_result"
    }
   ],
   "source": [
    "percentile(l, 10)"
   ]
  },
  {
   "cell_type": "markdown",
   "metadata": {},
   "source": [
    "## Тестирование describe\n"
   ]
  },
  {
   "cell_type": "code",
   "execution_count": 10,
   "metadata": {},
   "outputs": [],
   "source": [
    "path = '/Users/ila/Desktop/Python/my projects/logistic_regression/'\n",
    "mdata = read_csv(path + \"resources/dataset_train.csv\")\n",
    "data = pd.read_csv(path + \"resources/dataset_train.csv\")"
   ]
  },
  {
   "cell_type": "code",
   "execution_count": 11,
   "metadata": {},
   "outputs": [
    {
     "data": {
      "text/plain": [
       "+-------+-------+----------------+------------+-----------+------------+-----------+------------+-----------+-----------+-------------------------------+------------+----------------+---------------+------------------+-----------------+---------+---------------------------+----------+---------+\n",
       "| index | Index | Hogwarts House | First Name | Last Name |  Birthday  | Best Hand | Arithmancy | Astronomy | Herbology | Defense Against the Dark Arts | Divination | Muggle Studies | Ancient Runes | History of Magic | Transfiguration | Potions | Care of Magical Creatures |  Charms  |  Flying |\n",
       "+-------+-------+----------------+------------+-----------+------------+-----------+------------+-----------+-----------+-------------------------------+------------+----------------+---------------+------------------+-----------------+---------+---------------------------+----------+---------+\n",
       "|   0   |  0.0  |   Ravenclaw    |   Tamara   |    Hsu    | 2000-03-30 |    Left   |  58384.0   |  -487.886 |   5.727   |             4.879             |   4.722    |    272.036     |    532.484    |      5.231       |     1039.788    |   3.79  |           0.716           | -232.794 |  -26.89 |\n",
       "|   1   |  1.0  |   Slytherin    |   Erich    |  Paredes  | 1999-10-14 |   Right   |  67239.0   |  -552.061 |   -5.987  |             5.521             |   -5.612   |    -487.341    |     367.76    |      4.107       |     1058.945    |  7.249  |           0.092           | -252.184 | -113.45 |\n",
       "|   2   |  2.0  |   Ravenclaw    |  Stephany  |   Braun   | 1999-11-03 |    Left   |  23702.0   |  -366.076 |   7.725   |             3.661             |    6.14    |    664.894     |    602.585    |      3.556       |     1088.088    |  8.729  |           -0.515          | -227.343 |  30.42  |\n",
       "|   3   |  3.0  |   Gryffindor   |   Vesta    | Mcmichael | 2000-08-19 |    Left   |  32667.0   |  697.743  |   -6.497  |             -6.977            |   4.026    |    -537.001    |    523.982    |      -4.81       |     920.391     |  0.822  |           -0.014          | -256.847 |  200.64 |\n",
       "|   4   |  4.0  |   Gryffindor   |   Gaston   |   Gibbs   | 1998-09-27 |    Left   |  60158.0   |  436.775  |   -7.821  |              Null             |   2.236    |    -444.263    |    599.325    |      -3.444      |     937.435     |  4.311  |           -0.264          | -256.387 |  157.98 |\n",
       "+-------+-------+----------------+------------+-----------+------------+-----------+------------+-----------+-----------+-------------------------------+------------+----------------+---------------+------------------+-----------------+---------+---------------------------+----------+---------+"
      ]
     },
     "execution_count": 11,
     "metadata": {},
     "output_type": "execute_result"
    }
   ],
   "source": [
    "mdata.head(5, types = '1')"
   ]
  },
  {
   "cell_type": "code",
   "execution_count": 12,
   "metadata": {},
   "outputs": [
    {
     "data": {
      "text/html": [
       "<div>\n",
       "<style scoped>\n",
       "    .dataframe tbody tr th:only-of-type {\n",
       "        vertical-align: middle;\n",
       "    }\n",
       "\n",
       "    .dataframe tbody tr th {\n",
       "        vertical-align: top;\n",
       "    }\n",
       "\n",
       "    .dataframe thead th {\n",
       "        text-align: right;\n",
       "    }\n",
       "</style>\n",
       "<table border=\"1\" class=\"dataframe\">\n",
       "  <thead>\n",
       "    <tr style=\"text-align: right;\">\n",
       "      <th></th>\n",
       "      <th>Index</th>\n",
       "      <th>Arithmancy</th>\n",
       "      <th>Astronomy</th>\n",
       "      <th>Herbology</th>\n",
       "      <th>Defense Against the Dark Arts</th>\n",
       "      <th>Divination</th>\n",
       "      <th>Muggle Studies</th>\n",
       "      <th>Ancient Runes</th>\n",
       "      <th>History of Magic</th>\n",
       "      <th>Transfiguration</th>\n",
       "      <th>Potions</th>\n",
       "      <th>Care of Magical Creatures</th>\n",
       "      <th>Charms</th>\n",
       "      <th>Flying</th>\n",
       "    </tr>\n",
       "  </thead>\n",
       "  <tbody>\n",
       "    <tr>\n",
       "      <th>count</th>\n",
       "      <td>1600.00000</td>\n",
       "      <td>1566.000000</td>\n",
       "      <td>1568.000000</td>\n",
       "      <td>1567.000000</td>\n",
       "      <td>1569.000000</td>\n",
       "      <td>1561.000000</td>\n",
       "      <td>1565.000000</td>\n",
       "      <td>1565.000000</td>\n",
       "      <td>1557.000000</td>\n",
       "      <td>1566.000000</td>\n",
       "      <td>1570.000000</td>\n",
       "      <td>1560.000000</td>\n",
       "      <td>1600.000000</td>\n",
       "      <td>1600.000000</td>\n",
       "    </tr>\n",
       "    <tr>\n",
       "      <th>mean</th>\n",
       "      <td>799.50000</td>\n",
       "      <td>49634.570243</td>\n",
       "      <td>39.797131</td>\n",
       "      <td>1.141020</td>\n",
       "      <td>-0.387863</td>\n",
       "      <td>3.153910</td>\n",
       "      <td>-224.589915</td>\n",
       "      <td>495.747970</td>\n",
       "      <td>2.963095</td>\n",
       "      <td>1030.096946</td>\n",
       "      <td>5.950373</td>\n",
       "      <td>-0.053427</td>\n",
       "      <td>-243.374409</td>\n",
       "      <td>21.958012</td>\n",
       "    </tr>\n",
       "    <tr>\n",
       "      <th>std</th>\n",
       "      <td>462.02453</td>\n",
       "      <td>16679.806036</td>\n",
       "      <td>520.298268</td>\n",
       "      <td>5.219682</td>\n",
       "      <td>5.212794</td>\n",
       "      <td>4.155301</td>\n",
       "      <td>486.344840</td>\n",
       "      <td>106.285165</td>\n",
       "      <td>4.425775</td>\n",
       "      <td>44.125116</td>\n",
       "      <td>3.147854</td>\n",
       "      <td>0.971457</td>\n",
       "      <td>8.783640</td>\n",
       "      <td>97.631602</td>\n",
       "    </tr>\n",
       "    <tr>\n",
       "      <th>min</th>\n",
       "      <td>0.00000</td>\n",
       "      <td>-24370.000000</td>\n",
       "      <td>-966.740546</td>\n",
       "      <td>-10.295663</td>\n",
       "      <td>-10.162119</td>\n",
       "      <td>-8.727000</td>\n",
       "      <td>-1086.496835</td>\n",
       "      <td>283.869609</td>\n",
       "      <td>-8.858993</td>\n",
       "      <td>906.627320</td>\n",
       "      <td>-4.697484</td>\n",
       "      <td>-3.313676</td>\n",
       "      <td>-261.048920</td>\n",
       "      <td>-181.470000</td>\n",
       "    </tr>\n",
       "    <tr>\n",
       "      <th>25%</th>\n",
       "      <td>399.75000</td>\n",
       "      <td>38511.500000</td>\n",
       "      <td>-489.551387</td>\n",
       "      <td>-4.308182</td>\n",
       "      <td>-5.259095</td>\n",
       "      <td>3.099000</td>\n",
       "      <td>-577.580096</td>\n",
       "      <td>397.511047</td>\n",
       "      <td>2.218653</td>\n",
       "      <td>1026.209993</td>\n",
       "      <td>3.646785</td>\n",
       "      <td>-0.671606</td>\n",
       "      <td>-250.652600</td>\n",
       "      <td>-41.870000</td>\n",
       "    </tr>\n",
       "    <tr>\n",
       "      <th>50%</th>\n",
       "      <td>799.50000</td>\n",
       "      <td>49013.500000</td>\n",
       "      <td>260.289446</td>\n",
       "      <td>3.469012</td>\n",
       "      <td>-2.589342</td>\n",
       "      <td>4.624000</td>\n",
       "      <td>-419.164294</td>\n",
       "      <td>463.918305</td>\n",
       "      <td>4.378176</td>\n",
       "      <td>1045.506996</td>\n",
       "      <td>5.874837</td>\n",
       "      <td>-0.044811</td>\n",
       "      <td>-244.867765</td>\n",
       "      <td>-2.515000</td>\n",
       "    </tr>\n",
       "    <tr>\n",
       "      <th>75%</th>\n",
       "      <td>1199.25000</td>\n",
       "      <td>60811.250000</td>\n",
       "      <td>524.771949</td>\n",
       "      <td>5.419183</td>\n",
       "      <td>4.904680</td>\n",
       "      <td>5.667000</td>\n",
       "      <td>254.994857</td>\n",
       "      <td>597.492230</td>\n",
       "      <td>5.825242</td>\n",
       "      <td>1058.436410</td>\n",
       "      <td>8.248173</td>\n",
       "      <td>0.589919</td>\n",
       "      <td>-232.552305</td>\n",
       "      <td>50.560000</td>\n",
       "    </tr>\n",
       "    <tr>\n",
       "      <th>max</th>\n",
       "      <td>1599.00000</td>\n",
       "      <td>104956.000000</td>\n",
       "      <td>1016.211940</td>\n",
       "      <td>11.612895</td>\n",
       "      <td>9.667405</td>\n",
       "      <td>10.032000</td>\n",
       "      <td>1092.388611</td>\n",
       "      <td>745.396220</td>\n",
       "      <td>11.889713</td>\n",
       "      <td>1098.958201</td>\n",
       "      <td>13.536762</td>\n",
       "      <td>3.056546</td>\n",
       "      <td>-225.428140</td>\n",
       "      <td>279.070000</td>\n",
       "    </tr>\n",
       "  </tbody>\n",
       "</table>\n",
       "</div>"
      ],
      "text/plain": [
       "            Index     Arithmancy    Astronomy    Herbology  \\\n",
       "count  1600.00000    1566.000000  1568.000000  1567.000000   \n",
       "mean    799.50000   49634.570243    39.797131     1.141020   \n",
       "std     462.02453   16679.806036   520.298268     5.219682   \n",
       "min       0.00000  -24370.000000  -966.740546   -10.295663   \n",
       "25%     399.75000   38511.500000  -489.551387    -4.308182   \n",
       "50%     799.50000   49013.500000   260.289446     3.469012   \n",
       "75%    1199.25000   60811.250000   524.771949     5.419183   \n",
       "max    1599.00000  104956.000000  1016.211940    11.612895   \n",
       "\n",
       "       Defense Against the Dark Arts   Divination  Muggle Studies  \\\n",
       "count                    1569.000000  1561.000000     1565.000000   \n",
       "mean                       -0.387863     3.153910     -224.589915   \n",
       "std                         5.212794     4.155301      486.344840   \n",
       "min                       -10.162119    -8.727000    -1086.496835   \n",
       "25%                        -5.259095     3.099000     -577.580096   \n",
       "50%                        -2.589342     4.624000     -419.164294   \n",
       "75%                         4.904680     5.667000      254.994857   \n",
       "max                         9.667405    10.032000     1092.388611   \n",
       "\n",
       "       Ancient Runes  History of Magic  Transfiguration      Potions  \\\n",
       "count    1565.000000       1557.000000      1566.000000  1570.000000   \n",
       "mean      495.747970          2.963095      1030.096946     5.950373   \n",
       "std       106.285165          4.425775        44.125116     3.147854   \n",
       "min       283.869609         -8.858993       906.627320    -4.697484   \n",
       "25%       397.511047          2.218653      1026.209993     3.646785   \n",
       "50%       463.918305          4.378176      1045.506996     5.874837   \n",
       "75%       597.492230          5.825242      1058.436410     8.248173   \n",
       "max       745.396220         11.889713      1098.958201    13.536762   \n",
       "\n",
       "       Care of Magical Creatures       Charms       Flying  \n",
       "count                1560.000000  1600.000000  1600.000000  \n",
       "mean                   -0.053427  -243.374409    21.958012  \n",
       "std                     0.971457     8.783640    97.631602  \n",
       "min                    -3.313676  -261.048920  -181.470000  \n",
       "25%                    -0.671606  -250.652600   -41.870000  \n",
       "50%                    -0.044811  -244.867765    -2.515000  \n",
       "75%                     0.589919  -232.552305    50.560000  \n",
       "max                     3.056546  -225.428140   279.070000  "
      ]
     },
     "execution_count": 12,
     "metadata": {},
     "output_type": "execute_result"
    }
   ],
   "source": [
    "data.describe()"
   ]
  },
  {
   "cell_type": "code",
   "execution_count": 13,
   "metadata": {
    "scrolled": false
   },
   "outputs": [
    {
     "name": "stdout",
     "output_type": "stream",
     "text": [
      "+-------------------------------+-------+----------+----------+-----------+----------+----------+----------+----------+\n",
      "|            Features           | Count |   Mean   |   Std    |    Min    |   25%    |   50%    |   75%    |   Max    |\n",
      "+-------------------------------+-------+----------+----------+-----------+----------+----------+----------+----------+\n",
      "|             index             |  1600 |  799.5   |  461.88  |     0     |   400    |   800    |   1200   |   1599   |\n",
      "|             Index             |  1600 |  799.5   |  461.88  |    0.0    |  400.0   |  800.0   |  1200.0  |  1599.0  |\n",
      "|           Arithmancy          |  1566 | 49634.57 | 16674.48 |  -24370.0 | 38434.0  | 49018.0  | 60918.0  | 104956.0 |\n",
      "|           Astronomy           |  1568 |  39.797  | 520.132  |  -966.741 | -489.494 | 261.645  |  525.91  | 1016.212 |\n",
      "|           Herbology           |  1567 |  1.141   |  5.218   |  -10.296  |  -4.312  |  3.469   |  5.421   |  11.613  |\n",
      "| Defense Against the Dark Arts |  1569 |  -0.388  |  5.211   |  -10.162  |  -5.259  |  -2.589  |  4.905   |  9.667   |\n",
      "|           Divination          |  1561 |  3.154   |  4.154   |   -8.727  |  2.964   |   4.56   |   5.7    |  10.032  |\n",
      "|         Muggle Studies        |  1565 | -224.59  | 486.189  | -1086.497 | -577.58  | -419.164 | 254.995  | 1092.389 |\n",
      "|         Ancient Runes         |  1565 | 495.748  | 106.251  |   283.87  | 397.511  | 463.918  | 597.492  | 745.396  |\n",
      "|        History of Magic       |  1557 |  2.963   |  4.424   |   -8.859  |  2.219   |  4.378   |  5.825   |  11.89   |\n",
      "|        Transfiguration        |  1566 | 1030.097 |  44.111  |  906.627  | 1026.172 | 1045.533 | 1058.445 | 1098.958 |\n",
      "|            Potions            |  1570 |   5.95   |  3.147   |   -4.697  |  3.645   |  5.878   |  8.249   |  13.537  |\n",
      "|   Care of Magical Creatures   |  1560 |  -0.053  |  0.971   |   -3.314  |  -0.671  |  -0.043  |  0.594   |  3.057   |\n",
      "|             Charms            |  1600 | -243.374 |  8.781   |  -261.049 | -250.647 | -244.868 | -232.537 | -225.428 |\n",
      "|             Flying            |  1600 |  21.958  |  97.601  |  -181.47  |  -42.43  |  -2.45   |  52.63   |  279.07  |\n",
      "+-------------------------------+-------+----------+----------+-----------+----------+----------+----------+----------+\n"
     ]
    }
   ],
   "source": [
    "print(mdata.describe(types = '2'))"
   ]
  },
  {
   "cell_type": "code",
   "execution_count": 17,
   "metadata": {},
   "outputs": [],
   "source": [
    "# print(mdata.describe())"
   ]
  },
  {
   "cell_type": "markdown",
   "metadata": {},
   "source": [
    "## Тестирование read_csv\n",
    "\n",
    "оригинальный read_csv должен пытаться сразу перегнать все данный в float"
   ]
  },
  {
   "cell_type": "code",
   "execution_count": 18,
   "metadata": {},
   "outputs": [],
   "source": [
    "path = '/Users/ila/Desktop/Python/my projects/logistic_regression/'\n",
    "mdata = read_csv(path + \"resources/dataset_train.csv\")\n",
    "data = pd.read_csv(path + \"resources/dataset_train.csv\")"
   ]
  },
  {
   "cell_type": "code",
   "execution_count": 19,
   "metadata": {},
   "outputs": [
    {
     "name": "stdout",
     "output_type": "stream",
     "text": [
      "Ошибок нет\n"
     ]
    }
   ],
   "source": [
    "flag = True\n",
    "for i in data.columns:\n",
    "    if not type(data[i][0]) == str:\n",
    "        if not round(data[i][0], 4) == round(mdata[i][0], 4):\n",
    "            flag = False\n",
    "            break\n",
    "    else:\n",
    "        if not data[i][0] == mdata[i][0]:\n",
    "            flag = False\n",
    "            break\n",
    "        \n",
    "if flag == True:\n",
    "    print('Ошибок нет')\n",
    "else:\n",
    "    print('Ошибка в', i )"
   ]
  },
  {
   "cell_type": "markdown",
   "metadata": {},
   "source": [
    "параметр  index_col"
   ]
  },
  {
   "cell_type": "code",
   "execution_count": 20,
   "metadata": {},
   "outputs": [],
   "source": [
    "path = '/Users/ila/Desktop/Python/my projects/logistic_regression/'\n",
    "mdata = read_csv(path + \"resources/dataset_train.csv\")\n",
    "data = pd.read_csv(path + \"resources/dataset_train.csv\", index_col='Last Name')"
   ]
  },
  {
   "cell_type": "code",
   "execution_count": 21,
   "metadata": {},
   "outputs": [
    {
     "data": {
      "text/plain": [
       "+-------------------------------+---------------------+--------------------+---------------------+-----------------------+---------------------+\n",
       "|            Field 1            |       Field 2       |      Field 3       |       Field 4       |        Field 5        |       Field 6       |\n",
       "+-------------------------------+---------------------+--------------------+---------------------+-----------------------+---------------------+\n",
       "|             index             |          0          |         1          |          2          |           3           |          4          |\n",
       "|             Index             |         0.0         |        1.0         |         2.0         |          3.0          |         4.0         |\n",
       "|         Hogwarts House        |      Ravenclaw      |     Slytherin      |      Ravenclaw      |       Gryffindor      |      Gryffindor     |\n",
       "|           First Name          |        Tamara       |       Erich        |       Stephany      |         Vesta         |        Gaston       |\n",
       "|           Last Name           |         Hsu         |      Paredes       |        Braun        |       Mcmichael       |        Gibbs        |\n",
       "|            Birthday           |      2000-03-30     |     1999-10-14     |      1999-11-03     |       2000-08-19      |      1998-09-27     |\n",
       "|           Best Hand           |         Left        |       Right        |         Left        |          Left         |         Left        |\n",
       "|           Arithmancy          |       58384.0       |      67239.0       |       23702.0       |        32667.0        |       60158.0       |\n",
       "|           Astronomy           | -487.88608595139016 | -552.0605073421984 |  -366.0761168823237 |    697.742808842469   |  436.7752035539525  |\n",
       "|           Herbology           |  5.727180298550763  | -5.987445780050746 |  7.7250166064392305 |  -6.4972144445985505  |  -7.820623052454388 |\n",
       "| Defense Against the Dark Arts |  4.8788608595139005 | 5.520605073421985  |  3.6607611688232367 |  -6.9774280884246895  |         Null        |\n",
       "|           Divination          |  4.7219999999999995 |       -5.612       |         6.14        |         4.026         |  2.2359999999999998 |\n",
       "|         Muggle Studies        |  272.0358314131986  | -487.3405572673422 |  664.8935212343011  |   -537.0011283872882  |  -444.2625366004496 |\n",
       "|         Ancient Runes         |  532.4842261151226  | 367.7603030171392  |  602.5852838484592  |   523.9821331934736   |  599.3245143172293  |\n",
       "|        History of Magic       |  5.231058287281048  | 4.107170286816076  |  3.5555789956034967 |  -4.8096366069645935  | -3.4443765754165385 |\n",
       "|        Transfiguration        |  1039.7882807428462 | 1058.9445920642218 |  1088.0883479121803 |   920.3914493107919   |  937.4347240534976  |\n",
       "|            Potions            |  3.7903690663529614 | 7.248741976146588  |  8.728530920939827  |   0.8219105005879808  |  4.311065821291761  |\n",
       "|   Care of Magical Creatures   |  0.7159391270136213 | 0.091674183916857  | -0.5153268462809037 | -0.014040417239052931 | -0.2640700765443832 |\n",
       "|             Charms            |      -232.79405     |     -252.18425     |      -227.34265     |       -256.84675      |      -256.3873      |\n",
       "+-------------------------------+---------------------+--------------------+---------------------+-----------------------+---------------------+"
      ]
     },
     "execution_count": 21,
     "metadata": {},
     "output_type": "execute_result"
    }
   ],
   "source": [
    "mdata.head(types = 2)"
   ]
  },
  {
   "cell_type": "code",
   "execution_count": 22,
   "metadata": {},
   "outputs": [
    {
     "data": {
      "text/plain": [
       "1039.7882807428462"
      ]
     },
     "execution_count": 22,
     "metadata": {},
     "output_type": "execute_result"
    }
   ],
   "source": [
    "mdata['Transfiguration'][0]"
   ]
  },
  {
   "cell_type": "markdown",
   "metadata": {},
   "source": [
    "## Тестирование слайсинга"
   ]
  },
  {
   "cell_type": "code",
   "execution_count": 23,
   "metadata": {},
   "outputs": [],
   "source": [
    "list1 = [['1', '1.1', 'a', 3], ['2', '2.2', 'b',6], ['3','3.3', 'c',9]]\n",
    "a = DataFrame(list1)\n",
    "b = pd.DataFrame(list1)\n"
   ]
  },
  {
   "cell_type": "code",
   "execution_count": 24,
   "metadata": {},
   "outputs": [
    {
     "name": "stdout",
     "output_type": "stream",
     "text": [
      "Ошибок нет\n"
     ]
    }
   ],
   "source": [
    "for i in range(len(list1)):\n",
    "    if not all([[all(b[i] == a[i])], [b[i][0] == a[i][0]]]):\n",
    "        print('ошибка')\n",
    "print('Ошибок нет')"
   ]
  },
  {
   "cell_type": "markdown",
   "metadata": {},
   "source": [
    "## Тестирование "
   ]
  },
  {
   "cell_type": "code",
   "execution_count": 25,
   "metadata": {},
   "outputs": [],
   "source": [
    "a = [[0, 10, 'bmv', 2000], [1, 20, 'mers', 2002], [2, 30, 'nisan', 2015]]\n",
    "names = ['Index', 'speed', 'mark_car', 'year']\n",
    "data = pd.DataFrame(a, columns=names)\n",
    "data2 = DataFrame(a, columns=names)\n"
   ]
  },
  {
   "cell_type": "code",
   "execution_count": 26,
   "metadata": {},
   "outputs": [
    {
     "data": {
      "text/plain": [
       "True"
      ]
     },
     "execution_count": 26,
     "metadata": {},
     "output_type": "execute_result"
    }
   ],
   "source": [
    "list(data.columns) == data2.columns[1:]"
   ]
  },
  {
   "cell_type": "code",
   "execution_count": 27,
   "metadata": {},
   "outputs": [
    {
     "data": {
      "text/plain": [
       "True"
      ]
     },
     "execution_count": 27,
     "metadata": {},
     "output_type": "execute_result"
    }
   ],
   "source": [
    "data2.shape == data.shape"
   ]
  },
  {
   "cell_type": "code",
   "execution_count": 28,
   "metadata": {},
   "outputs": [
    {
     "data": {
      "text/plain": [
       "(3, 4)"
      ]
     },
     "execution_count": 28,
     "metadata": {},
     "output_type": "execute_result"
    }
   ],
   "source": [
    "data2.shape"
   ]
  },
  {
   "cell_type": "code",
   "execution_count": 29,
   "metadata": {},
   "outputs": [
    {
     "data": {
      "text/plain": [
       "0    True\n",
       "1    True\n",
       "2    True\n",
       "Name: speed, dtype: bool"
      ]
     },
     "execution_count": 29,
     "metadata": {},
     "output_type": "execute_result"
    }
   ],
   "source": [
    "data2['speed'] == data['speed']"
   ]
  },
  {
   "cell_type": "code",
   "execution_count": 30,
   "metadata": {},
   "outputs": [
    {
     "data": {
      "text/plain": [
       "+-------+-------+-------+----------+------+\n",
       "| index | Index | speed | mark_car | year |\n",
       "+-------+-------+-------+----------+------+\n",
       "|   0   |   0   |   10  |   bmv    | 2000 |\n",
       "+-------+-------+-------+----------+------+"
      ]
     },
     "execution_count": 30,
     "metadata": {},
     "output_type": "execute_result"
    }
   ],
   "source": [
    "data2.head(1)"
   ]
  },
  {
   "cell_type": "code",
   "execution_count": 31,
   "metadata": {},
   "outputs": [],
   "source": [
    "data2['1'] = [1] * 3"
   ]
  },
  {
   "cell_type": "code",
   "execution_count": 32,
   "metadata": {},
   "outputs": [
    {
     "name": "stdout",
     "output_type": "stream",
     "text": [
      "+-------+-------+-------+----------+------+---+\n",
      "| index | Index | speed | mark_car | year | 1 |\n",
      "+-------+-------+-------+----------+------+---+\n",
      "|   0   |   0   |   10  |   bmv    | 2000 | 1 |\n",
      "|   1   |   1   |   20  |   mers   | 2002 | 1 |\n",
      "|   2   |   2   |   30  |  nisan   | 2015 | 1 |\n",
      "+-------+-------+-------+----------+------+---+\n"
     ]
    }
   ],
   "source": [
    "print(data2.head())"
   ]
  },
  {
   "cell_type": "code",
   "execution_count": 33,
   "metadata": {},
   "outputs": [
    {
     "data": {
      "text/html": [
       "<div>\n",
       "<style scoped>\n",
       "    .dataframe tbody tr th:only-of-type {\n",
       "        vertical-align: middle;\n",
       "    }\n",
       "\n",
       "    .dataframe tbody tr th {\n",
       "        vertical-align: top;\n",
       "    }\n",
       "\n",
       "    .dataframe thead th {\n",
       "        text-align: right;\n",
       "    }\n",
       "</style>\n",
       "<table border=\"1\" class=\"dataframe\">\n",
       "  <thead>\n",
       "    <tr style=\"text-align: right;\">\n",
       "      <th></th>\n",
       "      <th>Index</th>\n",
       "      <th>speed</th>\n",
       "      <th>mark_car</th>\n",
       "      <th>year</th>\n",
       "    </tr>\n",
       "  </thead>\n",
       "  <tbody>\n",
       "    <tr>\n",
       "      <th>0</th>\n",
       "      <td>0</td>\n",
       "      <td>10</td>\n",
       "      <td>bmv</td>\n",
       "      <td>2000</td>\n",
       "    </tr>\n",
       "    <tr>\n",
       "      <th>1</th>\n",
       "      <td>1</td>\n",
       "      <td>20</td>\n",
       "      <td>mers</td>\n",
       "      <td>2002</td>\n",
       "    </tr>\n",
       "    <tr>\n",
       "      <th>2</th>\n",
       "      <td>2</td>\n",
       "      <td>30</td>\n",
       "      <td>nisan</td>\n",
       "      <td>2015</td>\n",
       "    </tr>\n",
       "  </tbody>\n",
       "</table>\n",
       "</div>"
      ],
      "text/plain": [
       "   Index  speed mark_car  year\n",
       "0      0     10      bmv  2000\n",
       "1      1     20     mers  2002\n",
       "2      2     30    nisan  2015"
      ]
     },
     "execution_count": 33,
     "metadata": {},
     "output_type": "execute_result"
    }
   ],
   "source": [
    "data"
   ]
  },
  {
   "cell_type": "code",
   "execution_count": 34,
   "metadata": {},
   "outputs": [
    {
     "data": {
      "text/html": [
       "<div>\n",
       "<style scoped>\n",
       "    .dataframe tbody tr th:only-of-type {\n",
       "        vertical-align: middle;\n",
       "    }\n",
       "\n",
       "    .dataframe tbody tr th {\n",
       "        vertical-align: top;\n",
       "    }\n",
       "\n",
       "    .dataframe thead th {\n",
       "        text-align: right;\n",
       "    }\n",
       "</style>\n",
       "<table border=\"1\" class=\"dataframe\">\n",
       "  <thead>\n",
       "    <tr style=\"text-align: right;\">\n",
       "      <th></th>\n",
       "      <th>Index</th>\n",
       "      <th>speed</th>\n",
       "      <th>mark_car</th>\n",
       "      <th>year</th>\n",
       "    </tr>\n",
       "  </thead>\n",
       "  <tbody>\n",
       "    <tr>\n",
       "      <th>0</th>\n",
       "      <td>0</td>\n",
       "      <td>10</td>\n",
       "      <td>bmv</td>\n",
       "      <td>2000</td>\n",
       "    </tr>\n",
       "  </tbody>\n",
       "</table>\n",
       "</div>"
      ],
      "text/plain": [
       "   Index  speed mark_car  year\n",
       "0      0     10      bmv  2000"
      ]
     },
     "execution_count": 34,
     "metadata": {},
     "output_type": "execute_result"
    }
   ],
   "source": [
    "data.head(1)"
   ]
  },
  {
   "cell_type": "code",
   "execution_count": 35,
   "metadata": {},
   "outputs": [
    {
     "data": {
      "text/plain": [
       "+-------+-------+-------+----------+------+---+\n",
       "| index | Index | speed | mark_car | year | 1 |\n",
       "+-------+-------+-------+----------+------+---+\n",
       "|   0   |   0   |   10  |   bmv    | 2000 | 1 |\n",
       "|   1   |   1   |   20  |   mers   | 2002 | 1 |\n",
       "|   2   |   2   |   30  |  nisan   | 2015 | 1 |\n",
       "+-------+-------+-------+----------+------+---+"
      ]
     },
     "execution_count": 35,
     "metadata": {},
     "output_type": "execute_result"
    }
   ],
   "source": [
    "data2"
   ]
  },
  {
   "cell_type": "code",
   "execution_count": 36,
   "metadata": {},
   "outputs": [
    {
     "name": "stdout",
     "output_type": "stream",
     "text": [
      "[20, 40, 60] \n",
      "\n",
      "0    20\n",
      "1    40\n",
      "2    60\n",
      "Name: speed, dtype: int64\n"
     ]
    }
   ],
   "source": [
    "print(data2['speed'] + data2['speed'], '\\n')\n",
    "print(data['speed'] + data['speed'])"
   ]
  },
  {
   "cell_type": "code",
   "execution_count": 37,
   "metadata": {},
   "outputs": [
    {
     "data": {
      "text/plain": [
       "[['index', 'Index', 'speed', 'mark_car', 'year', '1'], [0, 0, 10, 'bmv', 2000, 1], [1, 1, 20, 'mers', 2002, 1], [2, 2, 30, 'nisan', 2015, 1]]"
      ]
     },
     "execution_count": 37,
     "metadata": {},
     "output_type": "execute_result"
    }
   ],
   "source": [
    "data2.data"
   ]
  },
  {
   "cell_type": "code",
   "execution_count": 38,
   "metadata": {},
   "outputs": [
    {
     "data": {
      "text/plain": [
       "['index', 'Index', 'speed', 'mark_car', 'year', '1']"
      ]
     },
     "execution_count": 38,
     "metadata": {},
     "output_type": "execute_result"
    }
   ],
   "source": [
    "data2.columns"
   ]
  },
  {
   "cell_type": "code",
   "execution_count": 39,
   "metadata": {},
   "outputs": [
    {
     "data": {
      "text/plain": [
       "[10, 20, 30]"
      ]
     },
     "execution_count": 39,
     "metadata": {},
     "output_type": "execute_result"
    }
   ],
   "source": [
    "data2['speed']"
   ]
  },
  {
   "cell_type": "code",
   "execution_count": 40,
   "metadata": {},
   "outputs": [
    {
     "data": {
      "text/plain": [
       "+-------+--------+-----+------+---------+---------+------------+------------+-----------+----------+---------+----------------+---------------+--------+\n",
       "| index | season |  yr | mnth | holiday | weekday | workingday | weathersit |    temp   |  atemp   |   hum   | windspeed(mph) | windspeed(ms) |  cnt   |\n",
       "+-------+--------+-----+------+---------+---------+------------+------------+-----------+----------+---------+----------------+---------------+--------+\n",
       "|   0   |  1.0   | 0.0 | 1.0  |   0.0   |   6.0   |    0.0     |    2.0     | 14.110847 | 18.18125 | 80.5833 |   10.749882    | 4.80549038891 | 985.0  |\n",
       "|   1   |  1.0   | 0.0 | 1.0  |   0.0   |   0.0   |    0.0     |    2.0     | 14.902598 | 17.68695 | 69.6087 |   16.652113    | 7.44394859186 | 801.0  |\n",
       "|   2   |  1.0   | 0.0 | 1.0  |   0.0   |   1.0   |    1.0     |    1.0     |  8.050924 | 9.47025  | 43.7273 |   16.636703    | 7.43705990165 | 1349.0 |\n",
       "|   3   |  1.0   | 0.0 | 1.0  |   0.0   |   2.0   |    1.0     |    1.0     |    8.2    | 10.6061  | 59.0435 |   10.739832    | 4.80099776486 | 1562.0 |\n",
       "|   4   |  1.0   | 0.0 | 1.0  |   0.0   |   3.0   |    1.0     |    1.0     |  9.305237 | 11.4635  | 43.6957 |    12.5223     | 5.59780956638 | 1600.0 |\n",
       "+-------+--------+-----+------+---------+---------+------------+------------+-----------+----------+---------+----------------+---------------+--------+"
      ]
     },
     "execution_count": 40,
     "metadata": {},
     "output_type": "execute_result"
    }
   ],
   "source": [
    "m = mpd.read_csv('test.csv', delimiter= ',')\n",
    "m.head()"
   ]
  },
  {
   "cell_type": "code",
   "execution_count": 41,
   "metadata": {},
   "outputs": [
    {
     "data": {
      "text/html": [
       "<div>\n",
       "<style scoped>\n",
       "    .dataframe tbody tr th:only-of-type {\n",
       "        vertical-align: middle;\n",
       "    }\n",
       "\n",
       "    .dataframe tbody tr th {\n",
       "        vertical-align: top;\n",
       "    }\n",
       "\n",
       "    .dataframe thead th {\n",
       "        text-align: right;\n",
       "    }\n",
       "</style>\n",
       "<table border=\"1\" class=\"dataframe\">\n",
       "  <thead>\n",
       "    <tr style=\"text-align: right;\">\n",
       "      <th></th>\n",
       "      <th>season</th>\n",
       "      <th>yr</th>\n",
       "      <th>mnth</th>\n",
       "      <th>holiday</th>\n",
       "      <th>weekday</th>\n",
       "      <th>workingday</th>\n",
       "      <th>weathersit</th>\n",
       "      <th>temp</th>\n",
       "      <th>atemp</th>\n",
       "      <th>hum</th>\n",
       "      <th>windspeed(mph)</th>\n",
       "      <th>windspeed(ms)</th>\n",
       "      <th>cnt</th>\n",
       "    </tr>\n",
       "  </thead>\n",
       "  <tbody>\n",
       "    <tr>\n",
       "      <th>0</th>\n",
       "      <td>1</td>\n",
       "      <td>0</td>\n",
       "      <td>1</td>\n",
       "      <td>0</td>\n",
       "      <td>6</td>\n",
       "      <td>0</td>\n",
       "      <td>2</td>\n",
       "      <td>14.110847</td>\n",
       "      <td>18.18125</td>\n",
       "      <td>80.5833</td>\n",
       "      <td>10.749882</td>\n",
       "      <td>4.805490</td>\n",
       "      <td>985</td>\n",
       "    </tr>\n",
       "    <tr>\n",
       "      <th>1</th>\n",
       "      <td>1</td>\n",
       "      <td>0</td>\n",
       "      <td>1</td>\n",
       "      <td>0</td>\n",
       "      <td>0</td>\n",
       "      <td>0</td>\n",
       "      <td>2</td>\n",
       "      <td>14.902598</td>\n",
       "      <td>17.68695</td>\n",
       "      <td>69.6087</td>\n",
       "      <td>16.652113</td>\n",
       "      <td>7.443949</td>\n",
       "      <td>801</td>\n",
       "    </tr>\n",
       "    <tr>\n",
       "      <th>2</th>\n",
       "      <td>1</td>\n",
       "      <td>0</td>\n",
       "      <td>1</td>\n",
       "      <td>0</td>\n",
       "      <td>1</td>\n",
       "      <td>1</td>\n",
       "      <td>1</td>\n",
       "      <td>8.050924</td>\n",
       "      <td>9.47025</td>\n",
       "      <td>43.7273</td>\n",
       "      <td>16.636703</td>\n",
       "      <td>7.437060</td>\n",
       "      <td>1349</td>\n",
       "    </tr>\n",
       "    <tr>\n",
       "      <th>3</th>\n",
       "      <td>1</td>\n",
       "      <td>0</td>\n",
       "      <td>1</td>\n",
       "      <td>0</td>\n",
       "      <td>2</td>\n",
       "      <td>1</td>\n",
       "      <td>1</td>\n",
       "      <td>8.200000</td>\n",
       "      <td>10.60610</td>\n",
       "      <td>59.0435</td>\n",
       "      <td>10.739832</td>\n",
       "      <td>4.800998</td>\n",
       "      <td>1562</td>\n",
       "    </tr>\n",
       "    <tr>\n",
       "      <th>4</th>\n",
       "      <td>1</td>\n",
       "      <td>0</td>\n",
       "      <td>1</td>\n",
       "      <td>0</td>\n",
       "      <td>3</td>\n",
       "      <td>1</td>\n",
       "      <td>1</td>\n",
       "      <td>9.305237</td>\n",
       "      <td>11.46350</td>\n",
       "      <td>43.6957</td>\n",
       "      <td>12.522300</td>\n",
       "      <td>5.597810</td>\n",
       "      <td>1600</td>\n",
       "    </tr>\n",
       "  </tbody>\n",
       "</table>\n",
       "</div>"
      ],
      "text/plain": [
       "   season  yr  mnth  holiday  weekday  workingday  weathersit       temp  \\\n",
       "0       1   0     1        0        6           0           2  14.110847   \n",
       "1       1   0     1        0        0           0           2  14.902598   \n",
       "2       1   0     1        0        1           1           1   8.050924   \n",
       "3       1   0     1        0        2           1           1   8.200000   \n",
       "4       1   0     1        0        3           1           1   9.305237   \n",
       "\n",
       "      atemp      hum  windspeed(mph)  windspeed(ms)   cnt  \n",
       "0  18.18125  80.5833       10.749882       4.805490   985  \n",
       "1  17.68695  69.6087       16.652113       7.443949   801  \n",
       "2   9.47025  43.7273       16.636703       7.437060  1349  \n",
       "3  10.60610  59.0435       10.739832       4.800998  1562  \n",
       "4  11.46350  43.6957       12.522300       5.597810  1600  "
      ]
     },
     "execution_count": 41,
     "metadata": {},
     "output_type": "execute_result"
    }
   ],
   "source": [
    "b = pd.read_csv('test.csv')\n",
    "a = read_csv('test.csv')\n",
    "b.head(5)"
   ]
  },
  {
   "cell_type": "code",
   "execution_count": 42,
   "metadata": {},
   "outputs": [
    {
     "data": {
      "text/plain": [
       "+-------+--------+-----+------+---------+---------+------------+------------+--------+--------+--------+----------------+---------------+--------+\n",
       "| index | season |  yr | mnth | holiday | weekday | workingday | weathersit |  temp  | atemp  |  hum   | windspeed(mph) | windspeed(ms) |  cnt   |\n",
       "+-------+--------+-----+------+---------+---------+------------+------------+--------+--------+--------+----------------+---------------+--------+\n",
       "|   0   |  1.0   | 0.0 | 1.0  |   0.0   |   6.0   |    0.0     |    2.0     | 14.111 | 18.181 | 80.583 |     10.75      |     4.805     | 985.0  |\n",
       "|   1   |  1.0   | 0.0 | 1.0  |   0.0   |   0.0   |    0.0     |    2.0     | 14.903 | 17.687 | 69.609 |     16.652     |     7.444     | 801.0  |\n",
       "|   2   |  1.0   | 0.0 | 1.0  |   0.0   |   1.0   |    1.0     |    1.0     | 8.051  |  9.47  | 43.727 |     16.637     |     7.437     | 1349.0 |\n",
       "+-------+--------+-----+------+---------+---------+------------+------------+--------+--------+--------+----------------+---------------+--------+"
      ]
     },
     "execution_count": 42,
     "metadata": {},
     "output_type": "execute_result"
    }
   ],
   "source": [
    "a.head(3)"
   ]
  },
  {
   "cell_type": "code",
   "execution_count": 43,
   "metadata": {},
   "outputs": [
    {
     "data": {
      "text/plain": [
       "+-------+-------+-------+----------+------+---+\n",
       "| index | Index | speed | mark_car | year | 1 |\n",
       "+-------+-------+-------+----------+------+---+\n",
       "|   0   |   0   |   10  |   bmv    | 2000 | 1 |\n",
       "|   1   |   1   |   20  |   mers   | 2002 | 1 |\n",
       "|   2   |   2   |   30  |  nisan   | 2015 | 1 |\n",
       "+-------+-------+-------+----------+------+---+"
      ]
     },
     "execution_count": 43,
     "metadata": {},
     "output_type": "execute_result"
    }
   ],
   "source": [
    "data2"
   ]
  },
  {
   "cell_type": "code",
   "execution_count": 44,
   "metadata": {},
   "outputs": [
    {
     "data": {
      "text/plain": [
       "[['index', 'Index', 'speed', 'mark_car', 'year', '1', 'dcss'], [0, 0, 10, 'bmv', 2000, 1, 4], [1, 1, 20, 'mers', 2002, 1, 5], [2, 2, 30, 'nisan', 2015, 1, 6]]"
      ]
     },
     "execution_count": 44,
     "metadata": {},
     "output_type": "execute_result"
    }
   ],
   "source": [
    "data2['dcss'] = [4, 5, 6]\n",
    "data2.data"
   ]
  },
  {
   "cell_type": "code",
   "execution_count": 45,
   "metadata": {},
   "outputs": [
    {
     "data": {
      "text/plain": [
       "+-------+-------+-------+----------+------+---+------+\n",
       "| index | Index | speed | mark_car | year | 1 | dcss |\n",
       "+-------+-------+-------+----------+------+---+------+\n",
       "|   0   |   0   |   10  |   bmv    | 2000 | 1 |  4   |\n",
       "+-------+-------+-------+----------+------+---+------+"
      ]
     },
     "execution_count": 45,
     "metadata": {},
     "output_type": "execute_result"
    }
   ],
   "source": [
    "data2.head(1)"
   ]
  },
  {
   "cell_type": "code",
   "execution_count": 46,
   "metadata": {},
   "outputs": [
    {
     "data": {
      "text/plain": [
       "+-------+-------+-------+----------+------+---+------+\n",
       "| index | Index | speed | mark_car | year | 1 | dcss |\n",
       "+-------+-------+-------+----------+------+---+------+\n",
       "|   0   |   0   |   10  |   bmv    |  1   | 1 |  4   |\n",
       "|   1   |   1   |   20  |   mers   |  2   | 1 |  5   |\n",
       "|   2   |   2   |   30  |  nisan   |  3   | 1 |  6   |\n",
       "+-------+-------+-------+----------+------+---+------+"
      ]
     },
     "execution_count": 46,
     "metadata": {},
     "output_type": "execute_result"
    }
   ],
   "source": [
    "data2['year'] = [1, 2, 3]\n",
    "data2"
   ]
  },
  {
   "cell_type": "code",
   "execution_count": 47,
   "metadata": {},
   "outputs": [
    {
     "data": {
      "text/plain": [
       "(3, 6)"
      ]
     },
     "execution_count": 47,
     "metadata": {},
     "output_type": "execute_result"
    }
   ],
   "source": [
    "data2.shape"
   ]
  },
  {
   "cell_type": "code",
   "execution_count": 426,
   "metadata": {},
   "outputs": [
    {
     "data": {
      "text/plain": [
       "+-------+-------+-------+----------+------+---+------+\n",
       "| index | Index | speed | mark_car | year | 1 | dcss |\n",
       "+-------+-------+-------+----------+------+---+------+\n",
       "|   0   |   0   |   10  |   bmv    | 2000 | 1 |  4   |\n",
       "|   1   |   1   |   20  |   mers   | 2002 | 1 |  5   |\n",
       "|   2   |   2   |   30  |  nisan   | 2015 | 1 |  6   |\n",
       "+-------+-------+-------+----------+------+---+------+"
      ]
     },
     "execution_count": 426,
     "metadata": {},
     "output_type": "execute_result"
    }
   ],
   "source": [
    "data2"
   ]
  },
  {
   "cell_type": "code",
   "execution_count": null,
   "metadata": {},
   "outputs": [],
   "source": []
  },
  {
   "cell_type": "code",
   "execution_count": null,
   "metadata": {},
   "outputs": [],
   "source": []
  }
 ],
 "metadata": {
  "kernelspec": {
   "display_name": "Python 3",
   "language": "python",
   "name": "python3"
  },
  "language_info": {
   "codemirror_mode": {
    "name": "ipython",
    "version": 3
   },
   "file_extension": ".py",
   "mimetype": "text/x-python",
   "name": "python",
   "nbconvert_exporter": "python",
   "pygments_lexer": "ipython3",
   "version": "3.8.8"
  }
 },
 "nbformat": 4,
 "nbformat_minor": 4
}
